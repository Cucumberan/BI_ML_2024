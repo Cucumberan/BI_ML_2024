{
  "cells": [
    {
      "cell_type": "markdown",
      "metadata": {
        "id": "view-in-github",
        "colab_type": "text"
      },
      "source": [
        "<a href=\"https://colab.research.google.com/github/Cucumberan/BI_ML_2024/blob/HW7/Copy_of_FC_NN_practice.ipynb\" target=\"_parent\"><img src=\"https://colab.research.google.com/assets/colab-badge.svg\" alt=\"Open In Colab\"/></a>"
      ]
    },
    {
      "cell_type": "markdown",
      "metadata": {
        "id": "-pSGPQS8Btmc"
      },
      "source": [
        "Всем привет! Сегодня вы впервые попробуете написать свою собственную нейронную сеть и попробовать ее обучить. Мы будем работать с картинками, но пока что не совсем тем способом, которым лучше всего это делать, но должно получиться неплохо.\n",
        "\n",
        "Будем работать с [датасетом](https://github.com/rois-codh/kmnist) `Kuzushiji-MNIST` (`KMNIST`). Это рукописные буквы, изображения имеют размер (28, 28, 1) и разделены на 10 классов, по ссылке можно прочитать подробнее."
      ]
    },
    {
      "cell_type": "code",
      "execution_count": 1,
      "metadata": {
        "id": "75HVAP_RFU7r"
      },
      "outputs": [],
      "source": [
        "import numpy as np\n",
        "import torch\n",
        "import matplotlib.pyplot as plt\n",
        "from IPython.display import clear_output"
      ]
    },
    {
      "cell_type": "markdown",
      "metadata": {
        "id": "46iQ8ixtEruP"
      },
      "source": [
        "## Загрузка данных"
      ]
    },
    {
      "cell_type": "markdown",
      "metadata": {
        "id": "R6h1jVreJlV-"
      },
      "source": [
        "Сейчас мы будем использовать встроенные данные, но в реальности приходится писать свой класс для датасета (Dataset), у которого реализовывать несколько обязательных методов (напр, `__getitem__`), но это обсудим уже потом."
      ]
    },
    {
      "cell_type": "code",
      "execution_count": 2,
      "metadata": {
        "id": "s9L9Z02o_1bK"
      },
      "outputs": [],
      "source": [
        "import torchvision\n",
        "from torchvision.datasets import KMNIST\n",
        "\n",
        "\n",
        "# Превращает картинки в тензоры\n",
        "transform = torchvision.transforms.Compose(\n",
        "    [torchvision.transforms.ToTensor()])\n",
        "\n",
        "# Загрузим данные (в переменных лежат объекты типа `Dataset`)\n",
        "# В аргумент `transform` мы передаем необходимые трансформации (ToTensor)\n",
        "trainset = KMNIST(root=\"./KMNIST\", train=True, download=True, transform=transform)\n",
        "testset = KMNIST(root=\"./KMNIST\", train=False, download=True, transform=transform)\n",
        "\n",
        "clear_output()"
      ]
    },
    {
      "cell_type": "markdown",
      "metadata": {
        "id": "V83E2vDrO9CC"
      },
      "source": [
        "Определим даталоадеры, они нужны, чтобы реализовывать стохастический градиентный спуск (то есть мы не хотим считывать в оперативную память все картинки сразу, а делать это батчами)."
      ]
    },
    {
      "cell_type": "code",
      "execution_count": 3,
      "metadata": {
        "id": "oqC8XO8pO8Px"
      },
      "outputs": [],
      "source": [
        "from torch.utils.data import DataLoader\n",
        "\n",
        "\n",
        "# Можно оставить таким\n",
        "batch_size = 256\n",
        "\n",
        "trainloader = DataLoader(trainset, batch_size=batch_size, shuffle=True, num_workers=2)\n",
        "testloader = DataLoader(testset, batch_size=batch_size, shuffle=False, num_workers=2)"
      ]
    },
    {
      "cell_type": "markdown",
      "metadata": {
        "id": "-Ntp5sLoPyGx"
      },
      "source": [
        "Подумайте, как может влиять на скорость обучения параметр `batch_size`, почему вы так считаете?\n",
        "\n",
        "**Ответ:**\n",
        "\n",
        "Кстати не понятно. Потому что по идее чем больше batch_size, тем дольше будет длиться одна эпоха обучения. С другой стороны, чем меньше batch_size, тем больше эпох понадобиться. С другой стороны, чем больше batch_size, тем быстрее алгоритм будет сходиться и тут нужно смотреть, что больше: выйгрышь от более быстрой сходимости алгоритма при большом batch_size или скорость обработки маленьких batch_size."
      ]
    },
    {
      "cell_type": "markdown",
      "metadata": {
        "id": "t2vmM4KaHvrs"
      },
      "source": [
        "Посмотрим на какую-нибудь картинку:"
      ]
    },
    {
      "cell_type": "code",
      "execution_count": 4,
      "metadata": {
        "colab": {
          "base_uri": "https://localhost:8080/",
          "height": 430
        },
        "id": "N-b-kFCYAoOP",
        "outputId": "79474565-275e-4c10-f7af-be5b92318b73"
      },
      "outputs": [
        {
          "output_type": "display_data",
          "data": {
            "text/plain": [
              "<Figure size 640x480 with 1 Axes>"
            ],
            "image/png": "[encoded data removed]"
          },
          "metadata": {}
        }
      ],
      "source": [
        "plt.imshow(trainset[0][0].view(28, 28).numpy(), cmap=\"gray\")\n",
        "plt.axis(\"off\")\n",
        "plt.title(f\"Class is {trainset[0][1]}\", fontsize=16);"
      ]
    },
    {
      "cell_type": "markdown",
      "metadata": {
        "id": "8_MSY231Hzz9"
      },
      "source": [
        "### Задание 1. Смотрим на картинки\n",
        "\n",
        "**2** балла\n",
        "\n",
        "Нарисуйте на одном графике изображения всех 10 классов:"
      ]
    },
    {
      "cell_type": "markdown",
      "metadata": {
        "id": "j0tNdHM5JS6l"
      },
      "source": [
        "⣿⣿⣿⣿⣿⣿⠿⢋⣥⣴⣶⣶⣶⣬⣙⠻⠟⣋⣭⣭⣭⣭⡙⠻⣿⣿⣿⣿⣿\n",
        "⣿⣿⣿⣿⡿⢋⣴⣿⣿⠿⢟⣛⣛⣛⠿⢷⡹⣿⣿⣿⣿⣿⣿⣆⠹⣿⣿⣿⣿\n",
        "⣿⣿⣿⡿⢁⣾⣿⣿⣴⣿⣿⣿⣿⠿⠿⠷⠥⠱⣶⣶⣶⣶⡶⠮⠤⣌⡙⢿⣿\n",
        "⣿⡿⢛⡁⣾⣿⣿⣿⡿⢟⡫⢕⣪⡭⠥⢭⣭⣉⡂⣉⡒⣤⡭⡉⠩⣥⣰⠂⠹\n",
        "⡟⢠⣿⣱⣿⣿⣿⣏⣛⢲⣾⣿⠃⠄⠐⠈⣿⣿⣿⣿⣿⣿⠄⠁⠃⢸⣿⣿⡧\n",
        "⢠⣿⣿⣿⣿⣿⣿⣿⣿⣇⣊⠙⠳⠤⠤⠾⣟⠛⠍⣹⣛⣛⣢⣀⣠⣛⡯⢉⣰\n",
        "⣿⣿⣿⣿⣿⣿⣿⣿⣿⣿⣿⣿⣷⡶⠶⢒⣠⣼⣿⣿⣛⠻⠛⢛⣛⠉⣴⣿⣿\n",
        "⣿⣿⣿⣿⣿⣿⣿⡿⢛⡛⢿⣿⣿⣶⣿⣿⣿⣿⣿⣿⣿⣿⣿⣿⣿⣷⡈⢿⣿\n",
        "⣿⣿⣿⣿⣿⣿⣿⠸⣿⡻⢷⣍⣛⠻⠿⠿⣿⣿⣿⣿⣿⣿⣿⣿⣿⠿⢇⡘⣿\n",
        "⣿⣿⣿⣿⣿⣿⣿⣷⣝⠻⠶⣬⣍⣛⣛⠓⠶⠶⠶⠤⠬⠭⠤⠶⠶⠞⠛⣡⣿\n",
        "⢿⣿⣿⣿⣿⣿⣿⣿⣿⣿⣷⣶⣬⣭⣍⣙⣛⣛⣛⠛⠛⠛⠿⠿⠿⠛⣠⣿⣿\n",
        "⣦⣈⠉⢛⠻⠿⠿⢿⣿⣿⣿⣿⣿⣿⣿⣿⣿⣿⣿⡿⠿⠛⣁⣴⣾⣿⣿⣿⣿\n",
        "⣿⣿⣿⣶⣮⣭⣁⣒⣒⣒⠂⠠⠬⠭⠭⠭⢀⣀⣠⣄⡘⠿⣿⣿⣿⣿⣿⣿⣿\n",
        "⣿⣿⣿⣿⣿⣿⣿⣿⣿⣿⣿⣿⣿⣿⣿⣿⣿⣿⣿⣿⣿⣦⡈⢿⣿⣿⣿⣿⣿\n",
        "\n",
        "\n",
        "\n"
      ]
    },
    {
      "cell_type": "code",
      "execution_count": 5,
      "metadata": {
        "id": "x3j6Bsu9AoT6",
        "colab": {
          "base_uri": "https://localhost:8080/",
          "height": 473
        },
        "outputId": "93c4ae3a-17ee-4c34-eb65-9b6956a48d80"
      },
      "outputs": [
        {
          "output_type": "display_data",
          "data": {
            "text/plain": [
              "<Figure size 1000x500 with 10 Axes>"
            ],
            "image/png": "[encoded data removed]"
          },
          "metadata": {}
        }
      ],
      "source": [
        "# Создаем пустой график с сеткой 2x5 (2 строки, 5 столбцов)\n",
        "fig, axs = plt.subplots(2, 5, figsize=(10, 5))\n",
        "\n",
        "# Инициализируем переменные для хранения индексов изображений каждого класса\n",
        "class_indices = [None] * 10\n",
        "\n",
        "# Находим индексы первого изображения каждого класса\n",
        "for i in range(len(trainset)):\n",
        "    img, label = trainset[i]\n",
        "    if class_indices[label] is None:\n",
        "        class_indices[label] = i\n",
        "    if all(idx is not None for idx in class_indices):\n",
        "        break\n",
        "\n",
        "# Отображаем изображения из всех 10 классов на одном графике\n",
        "for i in range(10):\n",
        "    img, label = trainset[class_indices[i]]\n",
        "    ax = axs[i // 5, i % 5]  # Выбираем соответствующий подграфик\n",
        "    ax.imshow(img.view(28, 28).numpy(), cmap=\"gray\")  # Отображаем изображение\n",
        "    ax.set_title(f\"Class {label}\")  # Устанавливаем заголовок с номером класса\n",
        "    ax.axis(\"off\")  # Отключаем оси координат\n",
        "\n",
        "plt.tight_layout()  # Выравниваем макет графика\n",
        "plt.show()  # Отображаем график"
      ]
    },
    {
      "cell_type": "markdown",
      "metadata": {
        "id": "dLCfnFW-JtGx"
      },
      "source": [
        "### Задание 2. Строим свой первый MLP\n",
        "\n",
        "**4** балла\n",
        "\n",
        "MLP (multilayer perceptron) или нейронная сеть из полносвязных (линейных) слоев, это мы уже знаем.\n",
        "\n",
        "Опишите структуру сети: 3 полносвязных слоя + функции активации на ваш выбор. **Подумайте** про активацию после последнего слоя!\n",
        "\n",
        "Сеть на выходе 1 слоя должна иметь 256 признаков, на выходе из 2 128 признаков, на выходе из последнего столько, сколько у вас классов.\n",
        "\n",
        "https://pytorch.org/docs/stable/nn.html?highlight=activation#non-linear-activations-weighted-sum-nonlinearity"
      ]
    },
    {
      "cell_type": "code",
      "execution_count": 52,
      "metadata": {
        "id": "dhYBvQIXJdSz"
      },
      "outputs": [],
      "source": [
        "import torch.nn as nn\n",
        "\n",
        "class FCNet(nn.Module):\n",
        "    def __init__(self):\n",
        "        super().__init__() #  это надо помнить!\n",
        "        self.fc1 = nn.Linear(in_features=784, out_features = 256)\n",
        "        self.fc2 = nn.Linear(in_features=256,out_features = 128)\n",
        "        self.fc3 = nn.Linear(in_features=128, out_features = 10)\n",
        "        self.relu = nn.ReLU()\n",
        "\n",
        "\n",
        "    def forward(self, x):  # Forward вызывается внутри метода __call__ родительского класса\n",
        "        ## x -> тензор размерности (BATCH_SIZE, N_CHANNELS, WIDTH, HEIGHT)\n",
        "        ## надо подумать над тем, что у нас полносвязные слои принимают векторы\n",
        "        x = x.view(-1, 28*28)  # Преобразуем входной тензор в плоский вектор\n",
        "        x = self.relu(self.fc1(x))\n",
        "        x = self.relu(self.fc2(x))\n",
        "        logits = self.fc3(x)\n",
        "        return logits"
      ]
    },
    {
      "cell_type": "code",
      "source": [
        "trainset\n",
        "image, label = trainset[0]\n",
        "image.shape"
      ],
      "metadata": {
        "colab": {
          "base_uri": "https://localhost:8080/"
        },
        "id": "hSJ-ecouuVi3",
        "outputId": "ee4377ce-3f66-481e-8f6d-3ab6f6abc523"
      },
      "execution_count": 7,
      "outputs": [
        {
          "output_type": "execute_result",
          "data": {
            "text/plain": [
              "torch.Size([1, 28, 28])"
            ]
          },
          "metadata": {},
          "execution_count": 7
        }
      ]
    },
    {
      "cell_type": "code",
      "source": [
        "my_neural_net = FCNet()"
      ],
      "metadata": {
        "id": "GiGBRGWWv3PJ"
      },
      "execution_count": 8,
      "outputs": []
    },
    {
      "cell_type": "code",
      "source": [
        "for param in my_neural_net.parameters():\n",
        "    print(param.shape)"
      ],
      "metadata": {
        "colab": {
          "base_uri": "https://localhost:8080/"
        },
        "id": "aorzagXJwDPB",
        "outputId": "0896d84a-f93e-4819-ef5d-ed42331d0f3c"
      },
      "execution_count": 9,
      "outputs": [
        {
          "output_type": "stream",
          "name": "stdout",
          "text": [
            "torch.Size([256, 784])\n",
            "torch.Size([256])\n",
            "torch.Size([128, 256])\n",
            "torch.Size([128])\n",
            "torch.Size([10, 128])\n",
            "torch.Size([10])\n"
          ]
        }
      ]
    },
    {
      "cell_type": "markdown",
      "metadata": {
        "id": "uI0R77EQNKef"
      },
      "source": [
        "Сколько обучаемых параметров у вашей модели (весов и смещений)?\n",
        "\n",
        "\n",
        "\n",
        "**Ответ:** размер картинок такой же, как был на консультации (28 x 28). Соответственно в первом слое 784x256 весов и 246 смещений. На втором слое 128x246 весов и 128 смещений и на третьем слое 10X128 весов и 10 смещений. **Всего 200840 обучаемых параметров.**\n"
      ]
    },
    {
      "cell_type": "markdown",
      "metadata": {
        "id": "iwGllji2M4lp"
      },
      "source": [
        "### Задание 3. Напишите код для обучения модели\n",
        "\n",
        "**5** баллов\n",
        "\n",
        "Можно (и нужно) подглядывать в код семинара по пайторчу. Вам нужно создать модель, определить функцию потерь и оптимизатор (начнем с `SGD`). Дальше нужно обучать модель, при помощи тренировочного `Dataloader'a` и считать лосс на тренировочном и тестовом `Dataloader'ах`."
      ]
    },
    {
      "cell_type": "markdown",
      "metadata": {
        "id": "Grv9xcybRfCX"
      },
      "source": [
        "Напишем функцию для рассчета `accuracy`:"
      ]
    },
    {
      "cell_type": "code",
      "execution_count": 10,
      "metadata": {
        "id": "9D2QPFe5JdVc"
      },
      "outputs": [],
      "source": [
        "def get_accuracy(model, dataloader):\n",
        "    \"\"\"\n",
        "    model - обученная нейронная сеть\n",
        "    dataloader - даталоадер, на котором вы хотите посчитать accuracy\n",
        "    \"\"\"\n",
        "    correct = 0\n",
        "    total = 0\n",
        "    with torch.no_grad(): # Тензоры внутри этого блока будут иметь requires_grad=False\n",
        "        for images, labels in dataloader:\n",
        "            outputs = model(images)\n",
        "            _, predicted = torch.max(outputs.data, 1)\n",
        "            total += labels.size(0)\n",
        "            correct += (predicted == labels).sum().item()\n",
        "    accuracy = correct / total\n",
        "\n",
        "    return accuracy"
      ]
    },
    {
      "cell_type": "markdown",
      "metadata": {
        "id": "D3EmoWJyTBkE"
      },
      "source": [
        "#### Основной цикл обучения\n",
        "\n",
        "Этот код можно (и зачастую нужно) выносить в отдельную функцию, но пока что можете это не делать, все по желанию)"
      ]
    },
    {
      "cell_type": "code",
      "execution_count": 53,
      "metadata": {
        "id": "uIZKSOdgUi3e"
      },
      "outputs": [],
      "source": [
        "# Создадим объект модели\n",
        "fc_net = FCNet()\n",
        "# Определим функцию потерь\n",
        "loss_function = nn.CrossEntropyLoss()\n",
        "# Создадим оптимизатор для нашей сети\n",
        "lr = 0.001 # скорость обучения\n",
        "optimizer = torch.optim.Adam(fc_net.parameters(), lr=3e-4)"
      ]
    },
    {
      "cell_type": "markdown",
      "metadata": {
        "id": "uKYzXFqoX_fd"
      },
      "source": [
        "Напишите цикл обучения. Для начала хватит 10 эпох. Какое значение `accuracy` на тестовой выборке удалось получить?\n",
        "\n",
        "Значение `accuracy` на тестовой выборке 0.897![3a427086aabe48d28777c425fe209ac8_00000.jpg](data:image/jpeg;base64,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)"
      ]
    },
    {
      "cell_type": "code",
      "execution_count": 54,
      "metadata": {
        "id": "Ma2bshC6MxI6",
        "colab": {
          "base_uri": "https://localhost:8080/"
        },
        "outputId": "01ee9785-0fda-4df5-bd97-18c1006a5923"
      },
      "outputs": [
        {
          "output_type": "stream",
          "name": "stdout",
          "text": [
            "Epoch=1 loss=0.6908\n",
            "Epoch=2 loss=0.3024\n",
            "Epoch=3 loss=0.2238\n",
            "Epoch=4 loss=0.1733\n",
            "Epoch=5 loss=0.1380\n",
            "Epoch=6 loss=0.1115\n",
            "Epoch=7 loss=0.0901\n",
            "Epoch=8 loss=0.0731\n",
            "Epoch=9 loss=0.0592\n",
            "Epoch=10 loss=0.0476\n",
            "CPU times: user 29 s, sys: 2.51 s, total: 31.5 s\n",
            "Wall time: 2min 17s\n"
          ]
        }
      ],
      "source": [
        "%%time\n",
        "n_epochs = 10\n",
        "loss_history = []\n",
        "for epoch in range(n_epochs):\n",
        "    epoch_loss = 0\n",
        "    for images, labels in trainloader: # 1. Получаем батч тренировочных картинок\n",
        "        optimizer.zero_grad() # 2. чтобы не было как в лог регрессии, когда мы не обнуляли градиенты\n",
        "        outputs = fc_net(images) # 3. делаем предсказания\n",
        "        loss = loss_function(outputs, labels) # 4. считаем лосс\n",
        "        loss.backward() # 5. считаем градиенты\n",
        "        optimizer.step() # 6. делаем шаг градиентного спуска\n",
        "\n",
        "        epoch_loss += loss.item()\n",
        "\n",
        "    loss_history.append(epoch_loss/len(trainloader))\n",
        "\n",
        "    print(f\"Epoch={epoch+1} loss={loss_history[epoch]:.4f}\")\n"
      ]
    },
    {
      "cell_type": "code",
      "source": [
        "import matplotlib.pyplot as plt\n",
        "plt.figure(figsize=(10, 5))\n",
        "plt.plot([i+1 for i in range(n_epochs)], loss_history)\n",
        "plt.xlabel(\"Epochs\")\n",
        "plt.ylabel(\"Loss\")\n",
        "plt.show()"
      ],
      "metadata": {
        "colab": {
          "base_uri": "https://localhost:8080/",
          "height": 465
        },
        "id": "4VKn_P6_ylQ_",
        "outputId": "83e43f40-a66b-49ca-dc9f-32e442d7b62f"
      },
      "execution_count": 56,
      "outputs": [
        {
          "output_type": "display_data",
          "data": {
            "text/plain": [
              "<Figure size 1000x500 with 1 Axes>"
            ],
            "image/png": "[encoded data removed]"
          },
          "metadata": {}
        }
      ]
    },
    {
      "cell_type": "code",
      "execution_count": 55,
      "metadata": {
        "id": "2cB5LRbrS3BN",
        "colab": {
          "base_uri": "https://localhost:8080/"
        },
        "outputId": "aa49d80e-05f2-4368-b48e-902527537fd6"
      },
      "outputs": [
        {
          "output_type": "execute_result",
          "data": {
            "text/plain": [
              "0.897"
            ]
          },
          "metadata": {},
          "execution_count": 55
        }
      ],
      "source": [
        "get_accuracy(fc_net, testloader)"
      ]
    },
    {
      "cell_type": "markdown",
      "metadata": {
        "id": "4HTJzBM8Yk1R"
      },
      "source": [
        "### Задание 4. Изучение влияния нормализации\n",
        "\n",
        "**3** балла\n",
        "\n",
        "Вы могли заметить, что мы забыли провести нормализацию наших данных, а для нейронных сетей это может быть очень критично.\n",
        "\n",
        "Нормализуйте данные.\n",
        "\n",
        "* Подсчитайте среднее значение и стандартное отклонение интенсивности пикселей для всех тренировочных данных\n",
        "* Нормализуйте данные с использованием этих параметров (используйте трансформацию `Normalize`)\n",
        "\n",
        "\n",
        "Оцените влияние нормировки данных."
      ]
    },
    {
      "cell_type": "code",
      "source": [
        "trainset\n",
        "\n"
      ],
      "metadata": {
        "colab": {
          "base_uri": "https://localhost:8080/"
        },
        "id": "G_RAjEII0uhA",
        "outputId": "94b8e3df-8188-495c-f000-44f52ca37bdd"
      },
      "execution_count": null,
      "outputs": [
        {
          "output_type": "execute_result",
          "data": {
            "text/plain": [
              "Dataset KMNIST\n",
              "    Number of datapoints: 60000\n",
              "    Root location: ./KMNIST\n",
              "    Split: Train\n",
              "    StandardTransform\n",
              "Transform: Compose(\n",
              "               ToTensor()\n",
              "           )"
            ]
          },
          "metadata": {},
          "execution_count": 89
        }
      ]
    },
    {
      "cell_type": "code",
      "source": [
        "# Проверка размера датасета\n",
        "print(\"Number of datapoints:\", len(trainset))\n",
        "\n",
        "# Проверка типа объекта внутри датасета\n",
        "sample_data = trainset[0]\n",
        "print(\"Type of the first object in the dataset:\", type(sample_data))\n",
        "print(\"Размерность данных первого элемента:\", len(sample_data))\n"
      ],
      "metadata": {
        "colab": {
          "base_uri": "https://localhost:8080/"
        },
        "id": "X7ekGUpp8U2Z",
        "outputId": "d465cb0d-e394-430f-9765-16704d1782ef"
      },
      "execution_count": null,
      "outputs": [
        {
          "output_type": "stream",
          "name": "stdout",
          "text": [
            "Number of datapoints: 60000\n",
            "Type of the first object in the dataset: <class 'tuple'>\n",
            "Размерность данных первого элемента: 2\n"
          ]
        }
      ]
    },
    {
      "cell_type": "code",
      "source": [
        "sample_image, sample_label = trainset[3]\n",
        "# Проверка размерности изображения\n",
        "print(\"Размерность изображения:\", sample_image.size())\n",
        "print(\"Метка класса:\", sample_label)"
      ],
      "metadata": {
        "colab": {
          "base_uri": "https://localhost:8080/"
        },
        "id": "PQcGvSHp1gXl",
        "outputId": "20fc35a6-0af9-488a-a571-821f099987b3"
      },
      "execution_count": null,
      "outputs": [
        {
          "output_type": "stream",
          "name": "stdout",
          "text": [
            "Размерность изображения: torch.Size([1, 28, 28])\n",
            "Метка класса: 1\n"
          ]
        }
      ]
    },
    {
      "cell_type": "code",
      "source": [
        "# Создание DataLoader для удобного доступа к данным\n",
        "trainloader = DataLoader(trainset, batch_size=len(trainset), shuffle=False, num_workers=2)\n",
        "testloader = DataLoader(testset,batch_size=len(trainset), shuffle=False, num_workers=2)\n",
        "# Получение всех изображений в одном тензоре\n",
        "images = next(iter(trainloader))[0]\n",
        "mean = torch.mean(images.float())\n",
        "std = torch.std(images.float())\n",
        "print(mean, std)\n",
        "\n",
        "transform_with_norm = torchvision.transforms.Compose([\n",
        "                torchvision.transforms.ToTensor(),\n",
        "                torchvision.transforms.Normalize(mean, std)\n",
        "            ])\n",
        "\n",
        "trainset.transform = transform_with_norm\n",
        "testset.transform = transform_with_norm\n"
      ],
      "metadata": {
        "colab": {
          "base_uri": "https://localhost:8080/"
        },
        "id": "5t0KaAQQ2nYS",
        "outputId": "b5200314-a414-4dd1-c69c-689187360239"
      },
      "execution_count": 15,
      "outputs": [
        {
          "output_type": "stream",
          "name": "stdout",
          "text": [
            "tensor(0.1918) tensor(0.3483)\n"
          ]
        }
      ]
    },
    {
      "cell_type": "code",
      "execution_count": 16,
      "metadata": {
        "id": "Qj93J3X_R6aa"
      },
      "outputs": [],
      "source": [
        "fc_net = FCNet()\n",
        "loss_function = nn.CrossEntropyLoss()\n",
        "lr = 0.001\n",
        "optimizer = torch.optim.Adam(fc_net.parameters(), lr=3e-4)"
      ]
    },
    {
      "cell_type": "code",
      "execution_count": 17,
      "metadata": {
        "id": "VWZtYBCvAoWQ",
        "colab": {
          "base_uri": "https://localhost:8080/"
        },
        "outputId": "4ad29d98-b750-4392-c4d4-5d536c08d90e"
      },
      "outputs": [
        {
          "output_type": "stream",
          "name": "stdout",
          "text": [
            "Epoch=1 loss=2.3062\n",
            "Epoch=2 loss=2.2647\n",
            "Epoch=3 loss=2.2243\n",
            "Epoch=4 loss=2.1835\n",
            "Epoch=5 loss=2.1413\n",
            "Epoch=6 loss=2.0971\n",
            "Epoch=7 loss=2.0505\n",
            "Epoch=8 loss=2.0014\n",
            "Epoch=9 loss=1.9496\n",
            "Epoch=10 loss=1.8954\n"
          ]
        }
      ],
      "source": [
        "n_epochs = 10\n",
        "loss_history = []\n",
        "\n",
        "for epoch in range(n_epochs):\n",
        "    epoch_loss = 0\n",
        "    for images, labels in trainloader: # 1. Получаем батч тренировочных картинок\n",
        "        optimizer.zero_grad() # 2. чтобы не было как в лог регрессии, когда мы не обнуляли градиенты\n",
        "        outputs = fc_net(images) # 3. делаем предсказания\n",
        "        loss = loss_function(outputs, labels) # 4. считаем лосс\n",
        "        loss.backward() # 5. считаем градиенты\n",
        "        optimizer.step() # 6. делаем шаг градиентного спуска\n",
        "\n",
        "        epoch_loss += loss.item()\n",
        "\n",
        "    loss_history.append(epoch_loss/len(trainloader))\n",
        "\n",
        "    print(f\"Epoch={epoch+1} loss={loss_history[epoch]:.4f}\")\n",
        "\n"
      ]
    },
    {
      "cell_type": "code",
      "execution_count": 18,
      "metadata": {
        "id": "Gfbv9OIAAoYT",
        "colab": {
          "base_uri": "https://localhost:8080/"
        },
        "outputId": "920accac-ef0f-4b8e-8602-ecc8540c2406"
      },
      "outputs": [
        {
          "output_type": "execute_result",
          "data": {
            "text/plain": [
              "0.4281"
            ]
          },
          "metadata": {},
          "execution_count": 18
        }
      ],
      "source": [
        "get_accuracy(fc_net, testloader)"
      ]
    },
    {
      "cell_type": "markdown",
      "metadata": {
        "id": "RcIJvhWkcjlh"
      },
      "source": [
        "Как изменилась `accuracy` после нормализации?\n",
        "При том же количестве обучающих эпох ухудшилось и стало равно 0.4281.\n",
        "Это странно, по-идее после нормализации оно должно улучшаться.\n",
        "Хотя я не уверена, что правильно сделала нормализацию.\n",
        "И я в принципе не совсем понимаю, зачем ее тут нужно было делать, потому что при применении метода ToTensor(), он и так перегоняет (масштабирует) значения интенсивностей пикселей в диапазон от 0 до 1."
      ]
    },
    {
      "cell_type": "markdown",
      "metadata": {
        "id": "atcfzu4acxP2"
      },
      "source": [
        "### Задание 5. Изучение влияния функции активации\n",
        "\n",
        "**3** балла\n",
        "\n",
        "Исследуйте влияние функций активации на скорость обучения и точность предсказаний модели.\n",
        "\n",
        "Используйте три функции:\n",
        "\n",
        "* [Sigmoid](https://pytorch.org/docs/stable/nn.functional.html#sigmoid)\n",
        "* [GELU](https://pytorch.org/docs/stable/nn.functional.html#gelu)\n",
        "* [Tanh](https://pytorch.org/docs/stable/generated/torch.nn.Tanh.html#torch.nn.Tanh)"
      ]
    },
    {
      "cell_type": "markdown",
      "source": [
        "Буду исследовать влияние на ненормализованных данных"
      ],
      "metadata": {
        "id": "zjuxM8bEoMmc"
      }
    },
    {
      "cell_type": "code",
      "source": [
        "trainloader = DataLoader(trainset, batch_size=batch_size, shuffle=True, num_workers=2)\n",
        "testloader = DataLoader(testset, batch_size=batch_size, shuffle=False, num_workers=2)"
      ],
      "metadata": {
        "id": "6NgyBcicoP-K"
      },
      "execution_count": 47,
      "outputs": []
    },
    {
      "cell_type": "code",
      "execution_count": 33,
      "metadata": {
        "id": "bAESPpjGa3M1"
      },
      "outputs": [],
      "source": [
        "import torch.nn.functional as F\n"
      ]
    },
    {
      "cell_type": "code",
      "source": [
        "class FCNet(nn.Module):\n",
        "    def __init__(self, activation):\n",
        "        super().__init__()\n",
        "        self.activation = activation\n",
        "        self.fc1 = nn.Linear(28 * 28, 256)\n",
        "        self.fc2 = nn.Linear(256, 128)\n",
        "        self.fc3 = nn.Linear(128, 10)\n",
        "\n",
        "    def forward(self, x):\n",
        "        x = x.view(-1, 28 * 28)\n",
        "        x = self.activation(self.fc1(x))\n",
        "        x = self.activation(self.fc2(x))\n",
        "        x = self.fc3(x)\n",
        "        return x"
      ],
      "metadata": {
        "id": "bT51RH1smxtl"
      },
      "execution_count": 34,
      "outputs": []
    },
    {
      "cell_type": "code",
      "source": [
        "sigmoid_model = FCNet(nn.Sigmoid())\n",
        "gelu_model = FCNet(F.gelu)\n",
        "tanh_model = FCNet(nn.Tanh())"
      ],
      "metadata": {
        "id": "QOAaTLQfmni7"
      },
      "execution_count": 48,
      "outputs": []
    },
    {
      "cell_type": "code",
      "source": [
        "loss_function = nn.CrossEntropyLoss()\n",
        "lr = 0.001\n",
        "optimizer = torch.optim.Adam(fc_net.parameters(), lr=3e-4)"
      ],
      "metadata": {
        "id": "qKqBisSGnPle"
      },
      "execution_count": 36,
      "outputs": []
    },
    {
      "cell_type": "code",
      "execution_count": 37,
      "metadata": {
        "id": "GdvHSFeKa2sW",
        "colab": {
          "base_uri": "https://localhost:8080/"
        },
        "outputId": "3a6a31e9-6d77-4e7a-f4b2-6c2111bcb57a"
      },
      "outputs": [
        {
          "output_type": "stream",
          "name": "stdout",
          "text": [
            "Epoch=1 loss=2.3401\n",
            "Epoch=2 loss=2.3398\n",
            "Epoch=3 loss=2.3402\n",
            "Epoch=4 loss=2.3401\n",
            "Epoch=5 loss=2.3401\n",
            "Epoch=6 loss=2.3400\n",
            "Epoch=7 loss=2.3401\n",
            "Epoch=8 loss=2.3401\n",
            "Epoch=9 loss=2.3402\n",
            "Epoch=10 loss=2.3399\n"
          ]
        }
      ],
      "source": [
        "n_epochs = 10\n",
        "loss_history = []\n",
        "\n",
        "for epoch in range(n_epochs):\n",
        "    epoch_loss = 0\n",
        "    for images, labels in trainloader:\n",
        "        optimizer.zero_grad()\n",
        "        outputs = sigmoid_model(images) #  сигмоида\n",
        "        loss = loss_function(outputs, labels)\n",
        "        loss.backward()\n",
        "        optimizer.step()\n",
        "\n",
        "        epoch_loss += loss.item()\n",
        "\n",
        "    loss_history.append(epoch_loss/len(trainloader))\n",
        "\n",
        "    print(f\"Epoch={epoch+1} loss={loss_history[epoch]:.4f}\")"
      ]
    },
    {
      "cell_type": "code",
      "source": [
        "n_epochs = 10\n",
        "loss_history = []\n",
        "\n",
        "for epoch in range(n_epochs):\n",
        "    epoch_loss = 0\n",
        "    for images, labels in trainloader:\n",
        "        optimizer.zero_grad()\n",
        "        outputs = gelu_model(images) # gelu\n",
        "        loss = loss_function(outputs, labels)\n",
        "        loss.backward()\n",
        "        optimizer.step()\n",
        "\n",
        "        epoch_loss += loss.item()\n",
        "\n",
        "    loss_history.append(epoch_loss/len(trainloader))\n",
        "\n",
        "    print(f\"Epoch={epoch+1} loss={loss_history[epoch]:.4f}\")"
      ],
      "metadata": {
        "colab": {
          "base_uri": "https://localhost:8080/"
        },
        "id": "ysynuMTNpAqe",
        "outputId": "d72b48a9-a597-4fdb-be04-3327757c26a8"
      },
      "execution_count": 44,
      "outputs": [
        {
          "output_type": "stream",
          "name": "stderr",
          "text": [
            "/usr/lib/python3.10/multiprocessing/popen_fork.py:66: RuntimeWarning: os.fork() was called. os.fork() is incompatible with multithreaded code, and JAX is multithreaded, so this will likely lead to a deadlock.\n",
            "  self.pid = os.fork()\n"
          ]
        },
        {
          "output_type": "stream",
          "name": "stdout",
          "text": [
            "Epoch=1 loss=2.3087\n",
            "Epoch=2 loss=2.3087\n",
            "Epoch=3 loss=2.3086\n",
            "Epoch=4 loss=2.3086\n",
            "Epoch=5 loss=2.3087\n",
            "Epoch=6 loss=2.3087\n",
            "Epoch=7 loss=2.3087\n",
            "Epoch=8 loss=2.3087\n",
            "Epoch=9 loss=2.3087\n",
            "Epoch=10 loss=2.3086\n"
          ]
        }
      ]
    },
    {
      "cell_type": "code",
      "source": [
        "n_epochs = 10\n",
        "loss_history = []\n",
        "\n",
        "for epoch in range(n_epochs):\n",
        "    epoch_loss = 0\n",
        "    for images, labels in trainloader:\n",
        "        optimizer.zero_grad()\n",
        "        outputs = tanh_model(images) #  tanh\n",
        "        loss = loss_function(outputs, labels)\n",
        "        loss.backward()\n",
        "        optimizer.step()\n",
        "\n",
        "        epoch_loss += loss.item()\n",
        "\n",
        "    loss_history.append(epoch_loss/len(trainloader))\n",
        "\n",
        "    print(f\"Epoch={epoch+1} loss={loss_history[epoch]:.4f}\")"
      ],
      "metadata": {
        "colab": {
          "base_uri": "https://localhost:8080/"
        },
        "id": "TWDzopiHpSX5",
        "outputId": "f6c7de55-cd5d-4c2e-809a-155bb1c87044"
      },
      "execution_count": 49,
      "outputs": [
        {
          "output_type": "stream",
          "name": "stdout",
          "text": [
            "Epoch=1 loss=2.2856\n",
            "Epoch=2 loss=2.2856\n",
            "Epoch=3 loss=2.2855\n",
            "Epoch=4 loss=2.2855\n",
            "Epoch=5 loss=2.2856\n",
            "Epoch=6 loss=2.2856\n",
            "Epoch=7 loss=2.2856\n",
            "Epoch=8 loss=2.2855\n",
            "Epoch=9 loss=2.2855\n",
            "Epoch=10 loss=2.2856\n"
          ]
        }
      ]
    },
    {
      "cell_type": "code",
      "execution_count": 51,
      "metadata": {
        "id": "zBok8pXNa2vA",
        "colab": {
          "base_uri": "https://localhost:8080/"
        },
        "outputId": "f644a3fe-fd98-46c4-b979-f3a9ed365666"
      },
      "outputs": [
        {
          "output_type": "execute_result",
          "data": {
            "text/plain": [
              "0.4281"
            ]
          },
          "metadata": {},
          "execution_count": 51
        }
      ],
      "source": [
        "get_accuracy(fc_net, testloader)"
      ]
    },
    {
      "cell_type": "markdown",
      "metadata": {
        "id": "aG2Oyxy2egVV"
      },
      "source": [
        "С использованием какой функции активации удалось досчить наибольшей `accuracy`?\n",
        "\n",
        "- Sigmoid_model: 0.1004\n",
        "- gelu_model: 0.0858\n",
        "- tanh_model: 0.131\n",
        "- fc_net: 0.8762\n",
        "\n",
        "Лучше всего была изначальная функция активации ReLU\n",
        "(все это на ненормализованных данных)\n"
      ]
    },
    {
      "cell_type": "markdown",
      "metadata": {
        "id": "20Ls3Bfsifqd"
      },
      "source": [
        "### Задание 6. Другие оптимизаторы\n",
        "\n",
        "**4** балла\n",
        "\n",
        "Исследуйте влияние оптимизаторов на скорость обучения и точность предсказаний модели.\n",
        "\n",
        "Попробуйте следующие:\n",
        "\n",
        "* [Adam](https://pytorch.org/docs/stable/generated/torch.optim.Adam.html#torch.optim.Adam)\n",
        "* [RMSprop](https://pytorch.org/docs/stable/generated/torch.optim.RMSprop.html#torch.optim.RMSprop)\n",
        "* [Adagrad](https://pytorch.org/docs/stable/generated/torch.optim.Adagrad.html#torch.optim.Adagrad)\n",
        "\n",
        "Вам нужно снова обучить 3 модели и сравнить их перформанс (функцию активации используйте ту, которая показала себя лучше всего)."
      ]
    },
    {
      "cell_type": "code",
      "execution_count": 73,
      "metadata": {
        "id": "rzL2LdA-ifJh"
      },
      "outputs": [],
      "source": [
        "import torch.optim as optim"
      ]
    },
    {
      "cell_type": "code",
      "source": [
        "# Функция для обучения модели с заданным оптимизатором\n",
        "def train_model(optimizer):\n",
        "    model = FCNet()  # Создаем экземпляр модели\n",
        "    criterion = nn.CrossEntropyLoss()  # Определяем функцию потерь\n",
        "    trainloader = DataLoader(trainset, batch_size=batch_size, shuffle=True, num_workers=2)  # Создаем загрузчик данных для обучения\n",
        "\n",
        "    # Выбор оптимизатора\n",
        "    if optimizer == \"Adam\":\n",
        "        optimizer = optim.Adam(model.parameters(), lr=0.001)\n",
        "    elif optimizer == \"RMSprop\":\n",
        "        optimizer = optim.RMSprop(model.parameters(), lr=0.001)\n",
        "    elif optimizer == \"Adagrad\":\n",
        "        optimizer = optim.Adagrad(model.parameters(), lr=0.001)\n",
        "\n",
        "    loss_history = []\n",
        "\n",
        "\n",
        "    for epoch in range(n_epochs):\n",
        "        epoch_loss = 0\n",
        "        for images, labels in trainloader: # 1. Получаем батч тренировочных картинок\n",
        "            optimizer.zero_grad()  # 2. чтобы не было как в лог регрессии, когда мы не обнуляли градиенты\n",
        "            outputs = model(images)  # 3. Делаем предсказания\n",
        "            loss = criterion(outputs, labels)  # 4. Считаем loss\n",
        "            loss.backward()  # 5. считаем градиенты\n",
        "            optimizer.step()  # 6. делаем шаг градиентного спуска\n",
        "\n",
        "            epoch_loss += loss.item()\n",
        "\n",
        "        loss_history.append(epoch_loss / len(trainloader))\n",
        "\n",
        "        print(f\"Epoch={epoch + 1} loss={loss_history[epoch]:.4f}\")\n",
        "\n",
        "    return model, loss_history"
      ],
      "metadata": {
        "id": "hKyftIL3xQMp"
      },
      "execution_count": 74,
      "outputs": []
    },
    {
      "cell_type": "code",
      "source": [
        "models = {}\n",
        "loss_histories = {}\n",
        "accuracies = {}\n",
        "\n",
        "optimizers = [\"Adam\", \"RMSprop\", \"Adagrad\"]\n",
        "for optimizer in optimizers:\n",
        "    print(f\"Training model with {optimizer} optimizer...\")\n",
        "    model, loss_history = train_model(optimizer)\n",
        "    models[optimizer] = model\n",
        "    accuracy = get_accuracy(model, testloader)\n",
        "    accuracies[optimizer] = accuracy\n",
        "    loss_histories[optimizer] = loss_history"
      ],
      "metadata": {
        "colab": {
          "base_uri": "https://localhost:8080/"
        },
        "id": "0TxYLtwvxcDx",
        "outputId": "3cab94d0-8257-4f1a-b178-64708d163ef5"
      },
      "execution_count": 76,
      "outputs": [
        {
          "output_type": "stream",
          "name": "stdout",
          "text": [
            "Training model with Adam optimizer...\n",
            "Epoch=1 loss=0.4554\n",
            "Epoch=2 loss=0.1857\n",
            "Epoch=3 loss=0.1211\n",
            "Epoch=4 loss=0.0831\n",
            "Epoch=5 loss=0.0567\n",
            "Epoch=6 loss=0.0408\n",
            "Epoch=7 loss=0.0273\n",
            "Epoch=8 loss=0.0206\n",
            "Epoch=9 loss=0.0150\n",
            "Epoch=10 loss=0.0163\n",
            "Training model with RMSprop optimizer...\n",
            "Epoch=1 loss=0.3650\n",
            "Epoch=2 loss=0.1479\n",
            "Epoch=3 loss=0.0963\n",
            "Epoch=4 loss=0.0638\n",
            "Epoch=5 loss=0.0455\n",
            "Epoch=6 loss=0.0320\n",
            "Epoch=7 loss=0.0266\n",
            "Epoch=8 loss=0.0194\n",
            "Epoch=9 loss=0.0157\n",
            "Epoch=10 loss=0.0141\n",
            "Training model with Adagrad optimizer...\n",
            "Epoch=1 loss=0.7334\n",
            "Epoch=2 loss=0.4745\n",
            "Epoch=3 loss=0.4167\n",
            "Epoch=4 loss=0.3819\n",
            "Epoch=5 loss=0.3570\n",
            "Epoch=6 loss=0.3378\n",
            "Epoch=7 loss=0.3224\n",
            "Epoch=8 loss=0.3091\n",
            "Epoch=9 loss=0.2980\n",
            "Epoch=10 loss=0.2881\n"
          ]
        }
      ]
    },
    {
      "cell_type": "code",
      "source": [
        "print(accuracies)"
      ],
      "metadata": {
        "colab": {
          "base_uri": "https://localhost:8080/"
        },
        "id": "wri1zIA81HeC",
        "outputId": "730f87b3-50eb-4387-fa22-1a7de01bf96b"
      },
      "execution_count": 79,
      "outputs": [
        {
          "output_type": "stream",
          "name": "stdout",
          "text": [
            "{'Adam': 0.9031, 'RMSprop': 0.9055, 'Adagrad': 0.805}\n"
          ]
        }
      ]
    },
    {
      "cell_type": "markdown",
      "source": [
        "Оптимизаторы влияют на точность предсказания модели. Adam и RMSprop улучшили accuracy, Adagrad - ухудшил."
      ],
      "metadata": {
        "id": "49Ag7MWC1VXe"
      }
    },
    {
      "cell_type": "markdown",
      "metadata": {
        "id": "eHA48PsperxS"
      },
      "source": [
        "### Задание 7. Реализация ReLU\n",
        "\n",
        "**4** балла\n",
        "\n",
        "Самостоятельно реализуйте функцию активации ReLU.\n",
        "Замените в уже обученной модели функцию активации на вашу. Убедитесь что ничего не изменилась."
      ]
    },
    {
      "cell_type": "code",
      "execution_count": 67,
      "metadata": {
        "id": "63uTkUp-a2xr"
      },
      "outputs": [],
      "source": [
        "class CustomReLU(nn.Module):\n",
        "    def __init__(self):\n",
        "        super().__init__()\n",
        "\n",
        "    def forward(self, x):\n",
        "        # если элемент x < 0, то 0, если >= 0, то x\n",
        "        return torch.max(torch.tensor(0), x)"
      ]
    },
    {
      "cell_type": "markdown",
      "metadata": {
        "id": "xsKzxa33fhbN"
      },
      "source": [
        "Заново обучите модель и проверьте правильность реализации `CustomReLU`."
      ]
    },
    {
      "cell_type": "code",
      "execution_count": 68,
      "metadata": {
        "id": "ePP55RBeecYh"
      },
      "outputs": [],
      "source": [
        "class FCNet(nn.Module):\n",
        "    def __init__(self):\n",
        "        super().__init__() #  это надо помнить!\n",
        "        self.fc1 = nn.Linear(in_features=784, out_features=256)\n",
        "        self.fc2 = nn.Linear(in_features=256, out_features=128)\n",
        "        self.fc3 = nn.Linear(in_features=128, out_features=10)\n",
        "        self.relu = CustomReLU()  # заменяем нашу ReLU на созданный нами CustomReLU\n",
        "\n",
        "    def forward(self, x):  # Forward вызывается внутри метода __call__ родительского класса\n",
        "        x = x.view(-1, 28*28)  # Преобразуем входной тензор в плоский вектор\n",
        "        x = self.relu(self.fc1(x))\n",
        "        x = self.relu(self.fc2(x))\n",
        "        logits = self.fc3(x)\n",
        "        return logits"
      ]
    },
    {
      "cell_type": "code",
      "source": [
        "# Создадим объект модели\n",
        "fc_net = FCNet()\n",
        "# Определим функцию потерь\n",
        "loss_function = nn.CrossEntropyLoss()\n",
        "# Создадим оптимизатор для нашей сети\n",
        "lr = 0.001 # скорость обучения\n",
        "optimizer = torch.optim.Adam(fc_net.parameters(), lr=3e-4)"
      ],
      "metadata": {
        "id": "RtKq-xF3rmQK"
      },
      "execution_count": 69,
      "outputs": []
    },
    {
      "cell_type": "code",
      "source": [
        "n_epochs = 10\n",
        "loss_history = []\n",
        "\n",
        "for epoch in range(n_epochs):\n",
        "    epoch_loss = 0\n",
        "    for images, labels in trainloader:\n",
        "        optimizer.zero_grad()\n",
        "        outputs = fc_net(images) #  custom_relu\n",
        "        loss = loss_function(outputs, labels)\n",
        "        loss.backward()\n",
        "        optimizer.step()\n",
        "\n",
        "        epoch_loss += loss.item()\n",
        "\n",
        "    loss_history.append(epoch_loss/len(trainloader))\n",
        "\n",
        "    print(f\"Epoch={epoch+1} loss={loss_history[epoch]:.4f}\")"
      ],
      "metadata": {
        "colab": {
          "base_uri": "https://localhost:8080/"
        },
        "id": "BHGlFa6nrmXz",
        "outputId": "c312e49d-93fa-4f68-deb1-7e2b20c58d77"
      },
      "execution_count": 70,
      "outputs": [
        {
          "output_type": "stream",
          "name": "stdout",
          "text": [
            "Epoch=1 loss=0.6892\n",
            "Epoch=2 loss=0.3028\n",
            "Epoch=3 loss=0.2253\n",
            "Epoch=4 loss=0.1762\n",
            "Epoch=5 loss=0.1401\n",
            "Epoch=6 loss=0.1141\n",
            "Epoch=7 loss=0.0940\n",
            "Epoch=8 loss=0.0773\n",
            "Epoch=9 loss=0.0647\n",
            "Epoch=10 loss=0.0521\n"
          ]
        }
      ]
    },
    {
      "cell_type": "code",
      "source": [
        "get_accuracy(fc_net, testloader)"
      ],
      "metadata": {
        "colab": {
          "base_uri": "https://localhost:8080/"
        },
        "id": "H2USe4v7tDRK",
        "outputId": "5b88515b-0328-4039-b800-b8664515d3ca"
      },
      "execution_count": 71,
      "outputs": [
        {
          "output_type": "execute_result",
          "data": {
            "text/plain": [
              "0.8987"
            ]
          },
          "metadata": {},
          "execution_count": 71
        }
      ]
    },
    {
      "cell_type": "markdown",
      "source": [
        "У CustomReLU `accuracy` = 0.8987, у ReLU из модуля nn `accuracy` = 0.897.\n"
      ],
      "metadata": {
        "id": "NiJ5JK3rvPnO"
      }
    },
    {
      "cell_type": "markdown",
      "metadata": {
        "id": "vWBG1mMwgN17"
      },
      "source": [
        "### Задание 8. Генерация картинок\n",
        "\n",
        "**3** балла\n",
        "\n",
        "Придумайте 3 предложения и сгенерируйте при помощи них 3 картинки, используя телеграм бота [ruDALLE](https://t.me/sber_rudalle_xl_bot). Прикрепите сюда ваши картины.\n",
        "\n",
        "**Бот не работает:(((**\n"
      ]
    },
    {
      "cell_type": "markdown",
      "source": [
        "Я воспользовалась [вот этим сайтом](https://rudalle.ru)\n",
        "\n",
        "1. Последствия от нашествия макаронного монстра на институт биоинформатики:\n",
        "![](https://drive.google.com/uc?export=view&id=1igSr8l380fN3v5w9M5svsBnq3EfBZDTs)\n",
        "\n",
        "2. Защита проектов в институте биоинформатики:\n",
        "![](https://drive.google.com/uc?export=view&id=1sFQsBlqkF5rmhYIGVu3_Fel9LA5EfTxv)\n",
        "\n",
        "3. Я обучаю свою первую нейронную сеть:\n",
        "![](https://drive.google.com/uc?export=view&id=1qI148BpCCbf0jKbg1r4EdWNCpZdSWnyd)\n",
        "\n"
      ],
      "metadata": {
        "id": "ZSeKE7rAwiA8"
      }
    }
  ],
  "metadata": {
    "colab": {
      "provenance": [],
      "include_colab_link": true
    },
    "kernelspec": {
      "display_name": "Python 3",
      "name": "python3"
    },
    "language_info": {
      "name": "python"
    }
  },
  "nbformat": 4,
  "nbformat_minor": 0
}